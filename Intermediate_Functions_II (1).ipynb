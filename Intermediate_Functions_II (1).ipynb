{
  "nbformat": 4,
  "nbformat_minor": 0,
  "metadata": {
    "colab": {
      "name": "Intermediate Functions II",
      "provenance": []
    },
    "kernelspec": {
      "name": "python3",
      "display_name": "Python 3"
    },
    "language_info": {
      "name": "python"
    }
  },
  "cells": [
    {
      "cell_type": "markdown",
      "metadata": {
        "id": "uo-3mPpLR6Pb"
      },
      "source": [
        "1. Update Values in Dictionaries and Lists"
      ]
    },
    {
      "cell_type": "code",
      "metadata": {
        "id": "hgy6H6iyNZPF"
      },
      "source": [
        "x = [ [5,2,3], [10,8,9] ] \n",
        "students = [\n",
        "     {'first_name':  'Michael', 'last_name' : 'Jordan'},\n",
        "     {'first_name' : 'John', 'last_name' : 'Rosales'}\n",
        "]\n",
        "sports_directory = {\n",
        "    'basketball' : ['Kobe', 'Jordan', 'James', 'Curry'],\n",
        "    'soccer' : ['Messi', 'Ronaldo', 'Rooney']\n",
        "}\n",
        "z = [ {'x': 10, 'y': 20} ]"
      ],
      "execution_count": 7,
      "outputs": []
    },
    {
      "cell_type": "code",
      "metadata": {
        "colab": {
          "base_uri": "https://localhost:8080/"
        },
        "id": "hlqpU-c0OAqb",
        "outputId": "9997987f-2ac1-4d92-d5f1-b1878a619964"
      },
      "source": [
        "x[1][0] = 15\n",
        "x"
      ],
      "execution_count": 3,
      "outputs": [
        {
          "output_type": "execute_result",
          "data": {
            "text/plain": [
              "[[5, 2, 3], [15, 8, 9]]"
            ]
          },
          "metadata": {},
          "execution_count": 3
        }
      ]
    },
    {
      "cell_type": "code",
      "metadata": {
        "colab": {
          "base_uri": "https://localhost:8080/"
        },
        "id": "YJ5TBCemOjmP",
        "outputId": "5b0ecb18-a20a-4b87-f33d-b7b0ee2a2ba1"
      },
      "source": [
        "students[0]['last_name'] = 'Bryant'\n",
        "students"
      ],
      "execution_count": 8,
      "outputs": [
        {
          "output_type": "execute_result",
          "data": {
            "text/plain": [
              "[{'first_name': 'Michael', 'last_name': 'Bryant'},\n",
              " {'first_name': 'John', 'last_name': 'Rosales'}]"
            ]
          },
          "metadata": {},
          "execution_count": 8
        }
      ]
    },
    {
      "cell_type": "code",
      "metadata": {
        "colab": {
          "base_uri": "https://localhost:8080/"
        },
        "id": "iahUABEWOMyv",
        "outputId": "38f1df89-834f-455d-b0e6-340170894626"
      },
      "source": [
        "sports_directory['soccer'][0] = 'Andres'\n",
        "sports_directory "
      ],
      "execution_count": 9,
      "outputs": [
        {
          "output_type": "execute_result",
          "data": {
            "text/plain": [
              "{'basketball': ['Kobe', 'Jordan', 'James', 'Curry'],\n",
              " 'soccer': ['Andres', 'Ronaldo', 'Rooney']}"
            ]
          },
          "metadata": {},
          "execution_count": 9
        }
      ]
    },
    {
      "cell_type": "code",
      "metadata": {
        "colab": {
          "base_uri": "https://localhost:8080/"
        },
        "id": "9NNuHhRsPKbT",
        "outputId": "a148125b-c86a-4117-d619-71abbc0d8d3c"
      },
      "source": [
        "z[0]['y'] = 30\n",
        "z"
      ],
      "execution_count": 10,
      "outputs": [
        {
          "output_type": "execute_result",
          "data": {
            "text/plain": [
              "[{'x': 10, 'y': 30}]"
            ]
          },
          "metadata": {},
          "execution_count": 10
        }
      ]
    },
    {
      "cell_type": "markdown",
      "metadata": {
        "id": "HykkGRmnSFCJ"
      },
      "source": [
        "2. Iterate Through a List of Dictionaries"
      ]
    },
    {
      "cell_type": "code",
      "metadata": {
        "id": "VpqoncfSPN9O"
      },
      "source": [
        "students = [\n",
        "         {'first_name':  'Michael', 'last_name' : 'Jordan'},\n",
        "         {'first_name' : 'John', 'last_name' : 'Rosales'},\n",
        "         {'first_name' : 'Mark', 'last_name' : 'Guillen'},\n",
        "         {'first_name' : 'KB', 'last_name' : 'Tonel'}\n",
        "    ]\n",
        "# iterateDictionary(students) \n",
        "# should output: (it's okay if each key-value pair ends up on 2 separate lines;\n",
        "# bonus to get them to appear exactly as below!)\n",
        "# first_name - Michael, last_name - Jordan\n",
        "# first_name - John, last_name - Rosales\n",
        "# first_name - Mark, last_name - Guillen\n",
        "# first_name - KB, last_name - Tonel"
      ],
      "execution_count": 23,
      "outputs": []
    },
    {
      "cell_type": "code",
      "metadata": {
        "colab": {
          "base_uri": "https://localhost:8080/"
        },
        "id": "DFvYQGglPhdq",
        "outputId": "27615b59-d49b-4863-c5e0-a1920d97e79a"
      },
      "source": [
        "def iterateDictionary(students):\n",
        "  for i in students:\n",
        "    print('first_name - {}, last_name - {}'.format(i['first_name'], i['last_name']))\n",
        "\n",
        "iterateDictionary(students)"
      ],
      "execution_count": 24,
      "outputs": [
        {
          "output_type": "stream",
          "name": "stdout",
          "text": [
            "first_name - Michael, last_name - Jordan\n",
            "first_name - John, last_name - Rosales\n",
            "first_name - Mark, last_name - Guillen\n",
            "first_name - KB, last_name - Tonel\n"
          ]
        }
      ]
    },
    {
      "cell_type": "markdown",
      "metadata": {
        "id": "povOcerHSNLs"
      },
      "source": [
        "3. Get Values From a List of Dictionaries"
      ]
    },
    {
      "cell_type": "code",
      "metadata": {
        "id": "RNJ4tMWlQGRc"
      },
      "source": [
        "def iterateDictionary2(key_name, some_list):\n",
        "  for i in some_list:\n",
        "    print(i[key_name])"
      ],
      "execution_count": 26,
      "outputs": []
    },
    {
      "cell_type": "code",
      "metadata": {
        "colab": {
          "base_uri": "https://localhost:8080/"
        },
        "id": "fPggbzU_Rw8m",
        "outputId": "2e8a73cf-34fd-4f13-91bc-ad76110a061e"
      },
      "source": [
        "iterateDictionary2('first_name', students)"
      ],
      "execution_count": 27,
      "outputs": [
        {
          "output_type": "stream",
          "name": "stdout",
          "text": [
            "Michael\n",
            "John\n",
            "Mark\n",
            "KB\n"
          ]
        }
      ]
    },
    {
      "cell_type": "code",
      "metadata": {
        "colab": {
          "base_uri": "https://localhost:8080/"
        },
        "id": "pp-JcTxbRz03",
        "outputId": "d3edefa5-999a-4d03-9029-885e323d907b"
      },
      "source": [
        "\n",
        "iterateDictionary2('last_name', students)"
      ],
      "execution_count": 28,
      "outputs": [
        {
          "output_type": "stream",
          "name": "stdout",
          "text": [
            "Jordan\n",
            "Rosales\n",
            "Guillen\n",
            "Tonel\n"
          ]
        }
      ]
    },
    {
      "cell_type": "markdown",
      "metadata": {
        "id": "EtOdDKdqSOd1"
      },
      "source": [
        "4. Iterate Through a Dictionary with List Values"
      ]
    },
    {
      "cell_type": "code",
      "metadata": {
        "colab": {
          "base_uri": "https://localhost:8080/"
        },
        "id": "SnzAnAWkSRLJ",
        "outputId": "aa8a5561-fee7-495d-dbc8-8dda93a8477e"
      },
      "source": [
        "dojo = {\n",
        "   'locations': ['San Jose', 'Seattle', 'Dallas', 'Chicago', 'Tulsa', 'DC', 'Burbank'],\n",
        "   'instructors': ['Michael', 'Amy', 'Eduardo', 'Josh', 'Graham', 'Patrick', 'Minh', 'Devon']\n",
        "}\n",
        "\n",
        "def printInfo(dict_list):\n",
        "  for i in dict_list:\n",
        "    print(len(dict_list[i]), i)\n",
        "    for j in dict_list[i]:\n",
        "      print(j)\n",
        "    print('') # For line break\n",
        "printInfo(dojo)"
      ],
      "execution_count": 37,
      "outputs": [
        {
          "output_type": "stream",
          "name": "stdout",
          "text": [
            "7 locations\n",
            "San Jose\n",
            "Seattle\n",
            "Dallas\n",
            "Chicago\n",
            "Tulsa\n",
            "DC\n",
            "Burbank\n",
            "\n",
            "8 instructors\n",
            "Michael\n",
            "Amy\n",
            "Eduardo\n",
            "Josh\n",
            "Graham\n",
            "Patrick\n",
            "Minh\n",
            "Devon\n",
            "\n"
          ]
        }
      ]
    }
  ]
}